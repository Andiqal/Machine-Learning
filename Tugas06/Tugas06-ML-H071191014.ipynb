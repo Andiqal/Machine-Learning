{
 "cells": [
  {
   "cell_type": "markdown",
   "metadata": {
    "id": "zvm-f-4sfpYa"
   },
   "source": [
    "# Tugas 06\n",
    "## Machine Learning\n",
    "\n",
    "    Nama  : Andi Nurul Qalbi\n",
    "    NIM   : H071191014\n",
    "    Prodi : Sistem Informasi"
   ]
  },
  {
   "cell_type": "markdown",
   "metadata": {},
   "source": [
    "## Resume\n",
    "<p>Regresi merupakan teknik membangun model yang \n",
    "digunakan untuk prediksi nilai dari data masukan yang \n",
    "diberikan. Regresi adalah ukuran statistik yang digunakan \n",
    "untuk menentukan kekuatan hubungan antara variabel \n",
    "dependen (tak bebas) dengan variabel independen (bebas).\n",
    "<p>Metode utama untuk melakukan prediksi yakni membangun \n",
    "model regresi dengan mencari hubungan antara satu atau lebih \n",
    "variabel independen atau prediktor (X) dengan variabel \n",
    "dependen atau respons (Y). Linear regression memodelkan \n",
    "hubungan antara variabel skalar dan satu atau lebih variabel \n",
    "penjelas. "
   ]
  },
  {
   "cell_type": "markdown",
   "metadata": {},
   "source": [
    "## Linear Regression\n",
    "<p>Linear Regression (Regresi Linear) adalah suatu regresi linear yang digunakan untuk mengestimasi atau memprediksi hubungan antara dua variabel dalam penelitian kuantitatif. Dimana regresi linear ini mampu membuat satu asumsi tambahan yang mengkorelasikan antara variabel independen dan dependen melalui garis yang paling sesuai dari titik data garis lurus. Artinya, bukan kurva atau semacam faktor penelompokkan. \n",
    "<p>Metode linear regression tersusun atas dasar pola hubungan \n",
    "data yang relevan di masa lalu [10]. Secara umum, algoritme\n",
    "linear regression dibagi menjadi dua jenis, yaitu simple linear \n",
    "regression dan multiple linear regression. Simple linear \n",
    "regression merupakan hubungan antara satu variabel dependen \n",
    "dengan satu variabel independen, sedangkan multiple linear \n",
    "regression merupakan hubungan antara satu variabel dependen \n",
    "dengan dua atau lebih variabel independen."
   ]
  },
  {
   "cell_type": "code",
   "execution_count": 68,
   "metadata": {
    "id": "flHzmPjBO_ud"
   },
   "outputs": [],
   "source": [
    "# import library yang diperlukan\n",
    "from sklearn.datasets import load_iris\n",
    "import numpy as np\n",
    "import pandas as pd\n",
    "from sklearn.linear_model import LinearRegression, LogisticRegression\n",
    "from sklearn.model_selection import train_test_split\n",
    "from matplotlib import pyplot as plt"
   ]
  },
  {
   "cell_type": "code",
   "execution_count": 69,
   "metadata": {},
   "outputs": [],
   "source": [
    "# membuat dataframe baru dengan nama df yang berisi kolom usia dan ukuran sepatu\n",
    "df = pd.DataFrame({\n",
    "    'usia (X)':np.random.randint(15,30,100),\n",
    "    'ukuran sepatu (Y)':np.random.randint(35,45,100)\n",
    "})"
   ]
  },
  {
   "cell_type": "code",
   "execution_count": 70,
   "metadata": {
    "colab": {
     "base_uri": "https://localhost:8080/",
     "height": 300
    },
    "id": "z5rGplfUQoMq",
    "outputId": "7aaca0fc-5e8b-4a3a-a2ba-8673523375e9"
   },
   "outputs": [
    {
     "data": {
      "text/html": [
       "<div>\n",
       "<style scoped>\n",
       "    .dataframe tbody tr th:only-of-type {\n",
       "        vertical-align: middle;\n",
       "    }\n",
       "\n",
       "    .dataframe tbody tr th {\n",
       "        vertical-align: top;\n",
       "    }\n",
       "\n",
       "    .dataframe thead th {\n",
       "        text-align: right;\n",
       "    }\n",
       "</style>\n",
       "<table border=\"1\" class=\"dataframe\">\n",
       "  <thead>\n",
       "    <tr style=\"text-align: right;\">\n",
       "      <th></th>\n",
       "      <th>usia (X)</th>\n",
       "      <th>ukuran sepatu (Y)</th>\n",
       "    </tr>\n",
       "  </thead>\n",
       "  <tbody>\n",
       "    <tr>\n",
       "      <th>0</th>\n",
       "      <td>24</td>\n",
       "      <td>36</td>\n",
       "    </tr>\n",
       "    <tr>\n",
       "      <th>1</th>\n",
       "      <td>18</td>\n",
       "      <td>40</td>\n",
       "    </tr>\n",
       "    <tr>\n",
       "      <th>2</th>\n",
       "      <td>24</td>\n",
       "      <td>44</td>\n",
       "    </tr>\n",
       "    <tr>\n",
       "      <th>3</th>\n",
       "      <td>27</td>\n",
       "      <td>43</td>\n",
       "    </tr>\n",
       "    <tr>\n",
       "      <th>4</th>\n",
       "      <td>15</td>\n",
       "      <td>38</td>\n",
       "    </tr>\n",
       "    <tr>\n",
       "      <th>...</th>\n",
       "      <td>...</td>\n",
       "      <td>...</td>\n",
       "    </tr>\n",
       "    <tr>\n",
       "      <th>95</th>\n",
       "      <td>22</td>\n",
       "      <td>43</td>\n",
       "    </tr>\n",
       "    <tr>\n",
       "      <th>96</th>\n",
       "      <td>16</td>\n",
       "      <td>44</td>\n",
       "    </tr>\n",
       "    <tr>\n",
       "      <th>97</th>\n",
       "      <td>22</td>\n",
       "      <td>44</td>\n",
       "    </tr>\n",
       "    <tr>\n",
       "      <th>98</th>\n",
       "      <td>17</td>\n",
       "      <td>35</td>\n",
       "    </tr>\n",
       "    <tr>\n",
       "      <th>99</th>\n",
       "      <td>28</td>\n",
       "      <td>44</td>\n",
       "    </tr>\n",
       "  </tbody>\n",
       "</table>\n",
       "<p>100 rows × 2 columns</p>\n",
       "</div>"
      ],
      "text/plain": [
       "    usia (X)  ukuran sepatu (Y)\n",
       "0         24                 36\n",
       "1         18                 40\n",
       "2         24                 44\n",
       "3         27                 43\n",
       "4         15                 38\n",
       "..       ...                ...\n",
       "95        22                 43\n",
       "96        16                 44\n",
       "97        22                 44\n",
       "98        17                 35\n",
       "99        28                 44\n",
       "\n",
       "[100 rows x 2 columns]"
      ]
     },
     "execution_count": 70,
     "metadata": {},
     "output_type": "execute_result"
    }
   ],
   "source": [
    "# menampilkan dataframe\n",
    "df"
   ]
  },
  {
   "cell_type": "code",
   "execution_count": 71,
   "metadata": {
    "id": "afyXmz_-RtWP"
   },
   "outputs": [],
   "source": [
    "# membagi data menjadi data dependen dan independen\n",
    "X = df[\"usia (X)\"].values[:, np.newaxis]\n",
    "Y = df[\"ukuran sepatu (Y)\"].values"
   ]
  },
  {
   "cell_type": "code",
   "execution_count": 72,
   "metadata": {
    "id": "VDJD31NtTGsI"
   },
   "outputs": [],
   "source": [
    "# split data menjadi data test dan data train dengan perbandingan 3:7\n",
    "X_train, X_test, y_train, y_test = train_test_split(X, Y, test_size =  0.3)"
   ]
  },
  {
   "cell_type": "code",
   "execution_count": 73,
   "metadata": {
    "colab": {
     "base_uri": "https://localhost:8080/"
    },
    "id": "vTYs96oXQ7Up",
    "outputId": "d800af95-5b34-499f-bda2-f26b45e228e3"
   },
   "outputs": [
    {
     "data": {
      "text/plain": [
       "LinearRegression()"
      ]
     },
     "execution_count": 73,
     "metadata": {},
     "output_type": "execute_result"
    }
   ],
   "source": [
    "# membuat model\n",
    "# opsi 1 : simpan ke dalam variabel agar lebih singkat\n",
    "lr = LinearRegression()\n",
    "lr.fit(X, Y)\n",
    "\n",
    "# opsi 2 : LinearRegression().fit\n"
   ]
  },
  {
   "cell_type": "code",
   "execution_count": 74,
   "metadata": {
    "colab": {
     "base_uri": "https://localhost:8080/"
    },
    "id": "N8oxzJlBTr5Z",
    "outputId": "5c2a1f9c-7f50-4fb7-dc99-2ce2195b8e50"
   },
   "outputs": [
    {
     "name": "stdout",
     "output_type": "stream",
     "text": [
      "Intercept :38.23596538427047\n",
      "Coefficient :[0.07544166]\n"
     ]
    }
   ],
   "source": [
    "# mencetak atribut intercept dan coef pada lr\n",
    "print(\"Intercept :\" + str(lr.intercept_))\n",
    "print(\"Coefficient :\" + str(lr.coef_))"
   ]
  },
  {
   "cell_type": "code",
   "execution_count": 75,
   "metadata": {
    "id": "-3ddaEFSUuS6"
   },
   "outputs": [
    {
     "name": "stdout",
     "output_type": "stream",
     "text": [
      "Usia  : [[26], [19], [17]]\n",
      "Ukuran sepatu  : [40.19744866 39.66935701 39.51847368]\n"
     ]
    }
   ],
   "source": [
    "# membuat list yang berisi usia \n",
    "usia_1 = [[26],[19],[17]]\n",
    "\n",
    "# prediksi ukuran sepatu\n",
    "predict_result = lr.predict(usia_1)\n",
    "\n",
    "# mencetak usia dan prediksi ukuran sepatu\n",
    "print(\"Usia  : {}\\nUkuran sepatu  : {}\".format(usia_1,predict_result))"
   ]
  },
  {
   "cell_type": "code",
   "execution_count": 76,
   "metadata": {
    "colab": {
     "base_uri": "https://localhost:8080/",
     "height": 314
    },
    "id": "EBy94lVkVGFX",
    "outputId": "d4c301bb-bba3-4808-f917-faa01ec038a4"
   },
   "outputs": [
    {
     "data": {
      "text/plain": [
       "<function matplotlib.pyplot.show(close=None, block=None)>"
      ]
     },
     "execution_count": 76,
     "metadata": {},
     "output_type": "execute_result"
    },
    {
     "data": {
      "image/png": "[encoded data removed]",
      "text/plain": [
       "<Figure size 432x288 with 1 Axes>"
      ]
     },
     "metadata": {
      "needs_background": "light"
     },
     "output_type": "display_data"
    }
   ],
   "source": [
    "# memprediksi data X\n",
    "predict_for_xtrain = lr.predict(X)\n",
    "\n",
    "# membuat dataframe baru dengan kolom x yang berisi usia, dan kolom y yang berisi data prediksi\n",
    "temporary_dataframe =  pd.DataFrame({\n",
    "    'x': df[\"usia (X)\"],\n",
    "    'y': predict_for_xtrain\n",
    "})\n",
    "\n",
    "# membuat plot scatter\n",
    "plt.scatter(df[\"usia (X)\"], df[\"ukuran sepatu (Y)\"])\n",
    "plt.plot(temporary_dataframe['x'],temporary_dataframe['y'], color='m' ,linewidth = 2)\n",
    "\n",
    "# memberi nama pada sumbu x dan sumbu y\n",
    "plt.xlabel(\"usia\")\n",
    "plt.ylabel(\"ukuran sepatu\")\n",
    "\n",
    "# judul plot\n",
    "plt.title(\"sepatu usang\")\n",
    "\n",
    "# menampilkan plot\n",
    "plt.show"
   ]
  },
  {
   "cell_type": "markdown",
   "metadata": {
    "id": "id5n3wUvXhzM"
   },
   "source": [
    "# Logistic Regression"
   ]
  },
  {
   "cell_type": "code",
   "execution_count": 77,
   "metadata": {
    "id": "80Jb6YS5Xhmy"
   },
   "outputs": [
    {
     "data": {
      "text/html": [
       "<div>\n",
       "<style scoped>\n",
       "    .dataframe tbody tr th:only-of-type {\n",
       "        vertical-align: middle;\n",
       "    }\n",
       "\n",
       "    .dataframe tbody tr th {\n",
       "        vertical-align: top;\n",
       "    }\n",
       "\n",
       "    .dataframe thead th {\n",
       "        text-align: right;\n",
       "    }\n",
       "</style>\n",
       "<table border=\"1\" class=\"dataframe\">\n",
       "  <thead>\n",
       "    <tr style=\"text-align: right;\">\n",
       "      <th></th>\n",
       "      <th>preg</th>\n",
       "      <th>plas</th>\n",
       "      <th>pres</th>\n",
       "      <th>skin</th>\n",
       "      <th>test</th>\n",
       "      <th>mass</th>\n",
       "      <th>pedi</th>\n",
       "      <th>age</th>\n",
       "      <th>class</th>\n",
       "    </tr>\n",
       "  </thead>\n",
       "  <tbody>\n",
       "    <tr>\n",
       "      <th>0</th>\n",
       "      <td>6</td>\n",
       "      <td>148</td>\n",
       "      <td>72</td>\n",
       "      <td>35</td>\n",
       "      <td>0</td>\n",
       "      <td>33.6</td>\n",
       "      <td>0.627</td>\n",
       "      <td>50</td>\n",
       "      <td>1</td>\n",
       "    </tr>\n",
       "    <tr>\n",
       "      <th>1</th>\n",
       "      <td>1</td>\n",
       "      <td>85</td>\n",
       "      <td>66</td>\n",
       "      <td>29</td>\n",
       "      <td>0</td>\n",
       "      <td>26.6</td>\n",
       "      <td>0.351</td>\n",
       "      <td>31</td>\n",
       "      <td>0</td>\n",
       "    </tr>\n",
       "    <tr>\n",
       "      <th>2</th>\n",
       "      <td>8</td>\n",
       "      <td>183</td>\n",
       "      <td>64</td>\n",
       "      <td>0</td>\n",
       "      <td>0</td>\n",
       "      <td>23.3</td>\n",
       "      <td>0.672</td>\n",
       "      <td>32</td>\n",
       "      <td>1</td>\n",
       "    </tr>\n",
       "    <tr>\n",
       "      <th>3</th>\n",
       "      <td>1</td>\n",
       "      <td>89</td>\n",
       "      <td>66</td>\n",
       "      <td>23</td>\n",
       "      <td>94</td>\n",
       "      <td>28.1</td>\n",
       "      <td>0.167</td>\n",
       "      <td>21</td>\n",
       "      <td>0</td>\n",
       "    </tr>\n",
       "    <tr>\n",
       "      <th>4</th>\n",
       "      <td>0</td>\n",
       "      <td>137</td>\n",
       "      <td>40</td>\n",
       "      <td>35</td>\n",
       "      <td>168</td>\n",
       "      <td>43.1</td>\n",
       "      <td>2.288</td>\n",
       "      <td>33</td>\n",
       "      <td>1</td>\n",
       "    </tr>\n",
       "    <tr>\n",
       "      <th>...</th>\n",
       "      <td>...</td>\n",
       "      <td>...</td>\n",
       "      <td>...</td>\n",
       "      <td>...</td>\n",
       "      <td>...</td>\n",
       "      <td>...</td>\n",
       "      <td>...</td>\n",
       "      <td>...</td>\n",
       "      <td>...</td>\n",
       "    </tr>\n",
       "    <tr>\n",
       "      <th>763</th>\n",
       "      <td>10</td>\n",
       "      <td>101</td>\n",
       "      <td>76</td>\n",
       "      <td>48</td>\n",
       "      <td>180</td>\n",
       "      <td>32.9</td>\n",
       "      <td>0.171</td>\n",
       "      <td>63</td>\n",
       "      <td>0</td>\n",
       "    </tr>\n",
       "    <tr>\n",
       "      <th>764</th>\n",
       "      <td>2</td>\n",
       "      <td>122</td>\n",
       "      <td>70</td>\n",
       "      <td>27</td>\n",
       "      <td>0</td>\n",
       "      <td>36.8</td>\n",
       "      <td>0.340</td>\n",
       "      <td>27</td>\n",
       "      <td>0</td>\n",
       "    </tr>\n",
       "    <tr>\n",
       "      <th>765</th>\n",
       "      <td>5</td>\n",
       "      <td>121</td>\n",
       "      <td>72</td>\n",
       "      <td>23</td>\n",
       "      <td>112</td>\n",
       "      <td>26.2</td>\n",
       "      <td>0.245</td>\n",
       "      <td>30</td>\n",
       "      <td>0</td>\n",
       "    </tr>\n",
       "    <tr>\n",
       "      <th>766</th>\n",
       "      <td>1</td>\n",
       "      <td>126</td>\n",
       "      <td>60</td>\n",
       "      <td>0</td>\n",
       "      <td>0</td>\n",
       "      <td>30.1</td>\n",
       "      <td>0.349</td>\n",
       "      <td>47</td>\n",
       "      <td>1</td>\n",
       "    </tr>\n",
       "    <tr>\n",
       "      <th>767</th>\n",
       "      <td>1</td>\n",
       "      <td>93</td>\n",
       "      <td>70</td>\n",
       "      <td>31</td>\n",
       "      <td>0</td>\n",
       "      <td>30.4</td>\n",
       "      <td>0.315</td>\n",
       "      <td>23</td>\n",
       "      <td>0</td>\n",
       "    </tr>\n",
       "  </tbody>\n",
       "</table>\n",
       "<p>768 rows × 9 columns</p>\n",
       "</div>"
      ],
      "text/plain": [
       "     preg  plas  pres  skin  test  mass   pedi  age  class\n",
       "0       6   148    72    35     0  33.6  0.627   50      1\n",
       "1       1    85    66    29     0  26.6  0.351   31      0\n",
       "2       8   183    64     0     0  23.3  0.672   32      1\n",
       "3       1    89    66    23    94  28.1  0.167   21      0\n",
       "4       0   137    40    35   168  43.1  2.288   33      1\n",
       "..    ...   ...   ...   ...   ...   ...    ...  ...    ...\n",
       "763    10   101    76    48   180  32.9  0.171   63      0\n",
       "764     2   122    70    27     0  36.8  0.340   27      0\n",
       "765     5   121    72    23   112  26.2  0.245   30      0\n",
       "766     1   126    60     0     0  30.1  0.349   47      1\n",
       "767     1    93    70    31     0  30.4  0.315   23      0\n",
       "\n",
       "[768 rows x 9 columns]"
      ]
     },
     "execution_count": 77,
     "metadata": {},
     "output_type": "execute_result"
    }
   ],
   "source": [
    "# membuat list yang berisi data kolom\n",
    "headers  =  ['preg', 'plas', 'pres', 'skin', 'test', 'mass', 'pedi', 'age', \n",
    "'class']\n",
    "\n",
    "# load file csv pima dataset dan menampilkannya\n",
    "pdf = pd.read_csv('D:/Code/trash/datasets/pima-indians-diabetes.csv', names=headers)\n",
    "pdf"
   ]
  },
  {
   "cell_type": "code",
   "execution_count": 78,
   "metadata": {
    "colab": {
     "base_uri": "https://localhost:8080/",
     "height": 298
    },
    "id": "BXwa8dfRZYUX",
    "outputId": "16e273e4-eb89-4609-ccb8-55c10d44bea5"
   },
   "outputs": [
    {
     "data": {
      "text/plain": [
       "<AxesSubplot:xlabel='preg'>"
      ]
     },
     "execution_count": 78,
     "metadata": {},
     "output_type": "execute_result"
    },
    {
     "data": {
      "image/png": "[encoded data removed]",
      "text/plain": [
       "<Figure size 432x288 with 1 Axes>"
      ]
     },
     "metadata": {
      "needs_background": "light"
     },
     "output_type": "display_data"
    }
   ],
   "source": [
    "# membuat plot kolom preg dan class\n",
    "pdf.plot(x=\"preg\", y=\"class\", style=\"o\")"
   ]
  },
  {
   "cell_type": "code",
   "execution_count": 79,
   "metadata": {
    "id": "VajGfgU2ZBiN"
   },
   "outputs": [
    {
     "data": {
      "text/plain": [
       "(     preg  plas  pres  skin  test  mass   pedi  age\n",
       " 0       6   148    72    35     0  33.6  0.627   50\n",
       " 1       1    85    66    29     0  26.6  0.351   31\n",
       " 2       8   183    64     0     0  23.3  0.672   32\n",
       " 3       1    89    66    23    94  28.1  0.167   21\n",
       " 4       0   137    40    35   168  43.1  2.288   33\n",
       " ..    ...   ...   ...   ...   ...   ...    ...  ...\n",
       " 763    10   101    76    48   180  32.9  0.171   63\n",
       " 764     2   122    70    27     0  36.8  0.340   27\n",
       " 765     5   121    72    23   112  26.2  0.245   30\n",
       " 766     1   126    60     0     0  30.1  0.349   47\n",
       " 767     1    93    70    31     0  30.4  0.315   23\n",
       " \n",
       " [768 rows x 8 columns],\n",
       " 0      1\n",
       " 1      0\n",
       " 2      1\n",
       " 3      0\n",
       " 4      1\n",
       "       ..\n",
       " 763    0\n",
       " 764    0\n",
       " 765    0\n",
       " 766    1\n",
       " 767    0\n",
       " Name: class, Length: 768, dtype: int64)"
      ]
     },
     "execution_count": 79,
     "metadata": {},
     "output_type": "execute_result"
    }
   ],
   "source": [
    "# membagi data menjadi data dependen dan independen\n",
    "X =  pdf.iloc[:, :-1]\n",
    "y =  pdf.iloc[:, -1]\n",
    "\n",
    "# menampilkan data yang telah dibagi tadi\n",
    "X,y"
   ]
  },
  {
   "cell_type": "code",
   "execution_count": 80,
   "metadata": {
    "id": "ZTZ5C6pSZQhs"
   },
   "outputs": [],
   "source": [
    "# split data menjadi data test dan data train dengan perbandingan 2:8\n",
    "X_train, X_test, y_train, y_test = train_test_split(X, y, test_size =  0.2)"
   ]
  },
  {
   "cell_type": "code",
   "execution_count": 81,
   "metadata": {
    "colab": {
     "base_uri": "https://localhost:8080/"
    },
    "id": "ZueS03WJZtlW",
    "outputId": "e45e462c-2f83-44a3-e7c9-727cb632a25e"
   },
   "outputs": [
    {
     "name": "stderr",
     "output_type": "stream",
     "text": [
      "c:\\users\\andi nurul qalbi\\appdata\\local\\programs\\python\\python37\\lib\\site-packages\\sklearn\\linear_model\\_logistic.py:765: ConvergenceWarning: lbfgs failed to converge (status=1):\n",
      "STOP: TOTAL NO. of ITERATIONS REACHED LIMIT.\n",
      "\n",
      "Increase the number of iterations (max_iter) or scale the data as shown in:\n",
      "    https://scikit-learn.org/stable/modules/preprocessing.html\n",
      "Please also refer to the documentation for alternative solver options:\n",
      "    https://scikit-learn.org/stable/modules/linear_model.html#logistic-regression\n",
      "  extra_warning_msg=_LOGISTIC_SOLVER_CONVERGENCE_MSG)\n"
     ]
    },
    {
     "data": {
      "text/plain": [
       "LogisticRegression()"
      ]
     },
     "execution_count": 81,
     "metadata": {},
     "output_type": "execute_result"
    }
   ],
   "source": [
    "# membuat model lalu fitting dengan data train\n",
    "model_lrg = LogisticRegression()\n",
    "model_lrg.fit(X_train, y_train)"
   ]
  },
  {
   "cell_type": "code",
   "execution_count": 82,
   "metadata": {
    "colab": {
     "base_uri": "https://localhost:8080/"
    },
    "id": "8cSvtAOOaWVL",
    "outputId": "4e3f64c5-5bfd-473e-d5c7-77f6cd4c0b5b"
   },
   "outputs": [
    {
     "name": "stdout",
     "output_type": "stream",
     "text": [
      "     preg  plas  pres  skin  test  mass   pedi  age\n",
      "246    10   122    68     0     0  31.2  0.258   41\n",
      "401     6   137    61     0     0  24.2  0.151   55\n",
      "688     1   140    74    26   180  24.1  0.828   23\n",
      "158     2    88    74    19    53  29.0  0.229   22\n",
      "565     2    95    54    14    88  26.1  0.748   22\n",
      "..    ...   ...   ...   ...   ...   ...    ...  ...\n",
      "83      0   101    65    28     0  24.6  0.237   22\n",
      "89      1   107    68    19     0  26.5  0.165   24\n",
      "495     6   166    74     0     0  26.6  0.304   66\n",
      "41      7   133    84     0     0  40.2  0.696   37\n",
      "38      2    90    68    42     0  38.2  0.503   27\n",
      "\n",
      "[154 rows x 8 columns]\n"
     ]
    }
   ],
   "source": [
    "# menampilkan data tes\n",
    "print(X_test)"
   ]
  },
  {
   "cell_type": "code",
   "execution_count": 83,
   "metadata": {
    "id": "125fZf9zdbi8"
   },
   "outputs": [],
   "source": [
    "# reset index data\n",
    "X_test.reset_index(drop=True, inplace=True)"
   ]
  },
  {
   "cell_type": "code",
   "execution_count": 84,
   "metadata": {
    "id": "yQ_mwjBbZ_7C"
   },
   "outputs": [],
   "source": [
    "# memprediksi data tes dan menyimpannya ke variable prd\n",
    "prd = model_lrg.predict(X_test)"
   ]
  },
  {
   "cell_type": "code",
   "execution_count": 85,
   "metadata": {
    "id": "111FH20ObF67"
   },
   "outputs": [],
   "source": [
    "# membuat dataframe baru berisi prediksi data test\n",
    "prd_df = pd.DataFrame(prd)"
   ]
  },
  {
   "cell_type": "code",
   "execution_count": 87,
   "metadata": {
    "colab": {
     "base_uri": "https://localhost:8080/"
    },
    "id": "MYQ6NSDaae1j",
    "outputId": "c1c2e652-b072-405a-9b18-c6470c3dad05"
   },
   "outputs": [
    {
     "name": "stdout",
     "output_type": "stream",
     "text": [
      "     0\n",
      "0    1\n",
      "1    0\n",
      "2    0\n",
      "3    0\n",
      "4    0\n",
      "..  ..\n",
      "149  0\n",
      "150  0\n",
      "151  1\n",
      "152  1\n",
      "153  0\n",
      "\n",
      "[154 rows x 1 columns]\n"
     ]
    }
   ],
   "source": [
    "# mencetak dataframe\n",
    "print(prd_df)"
   ]
  },
  {
   "cell_type": "code",
   "execution_count": 88,
   "metadata": {
    "id": "ynbbLADla2Ln"
   },
   "outputs": [],
   "source": [
    "# menggabungkan kolom data test dan kolom prediksi\n",
    "result = pd.concat([X_test, prd_df], axis = 1, ignore_index = True)"
   ]
  },
  {
   "cell_type": "code",
   "execution_count": 89,
   "metadata": {
    "colab": {
     "base_uri": "https://localhost:8080/",
     "height": 990
    },
    "id": "f7ym7YDCbQwY",
    "outputId": "31b83aee-625d-4ba9-a311-f29c62ed723c"
   },
   "outputs": [
    {
     "data": {
      "text/html": [
       "<div>\n",
       "<style scoped>\n",
       "    .dataframe tbody tr th:only-of-type {\n",
       "        vertical-align: middle;\n",
       "    }\n",
       "\n",
       "    .dataframe tbody tr th {\n",
       "        vertical-align: top;\n",
       "    }\n",
       "\n",
       "    .dataframe thead th {\n",
       "        text-align: right;\n",
       "    }\n",
       "</style>\n",
       "<table border=\"1\" class=\"dataframe\">\n",
       "  <thead>\n",
       "    <tr style=\"text-align: right;\">\n",
       "      <th></th>\n",
       "      <th>preg</th>\n",
       "      <th>plas</th>\n",
       "      <th>pres</th>\n",
       "      <th>skin</th>\n",
       "      <th>test</th>\n",
       "      <th>mass</th>\n",
       "      <th>pedi</th>\n",
       "      <th>age</th>\n",
       "      <th>class</th>\n",
       "    </tr>\n",
       "  </thead>\n",
       "  <tbody>\n",
       "    <tr>\n",
       "      <th>0</th>\n",
       "      <td>10</td>\n",
       "      <td>122</td>\n",
       "      <td>68</td>\n",
       "      <td>0</td>\n",
       "      <td>0</td>\n",
       "      <td>31.2</td>\n",
       "      <td>0.258</td>\n",
       "      <td>41</td>\n",
       "      <td>1</td>\n",
       "    </tr>\n",
       "    <tr>\n",
       "      <th>1</th>\n",
       "      <td>6</td>\n",
       "      <td>137</td>\n",
       "      <td>61</td>\n",
       "      <td>0</td>\n",
       "      <td>0</td>\n",
       "      <td>24.2</td>\n",
       "      <td>0.151</td>\n",
       "      <td>55</td>\n",
       "      <td>0</td>\n",
       "    </tr>\n",
       "    <tr>\n",
       "      <th>2</th>\n",
       "      <td>1</td>\n",
       "      <td>140</td>\n",
       "      <td>74</td>\n",
       "      <td>26</td>\n",
       "      <td>180</td>\n",
       "      <td>24.1</td>\n",
       "      <td>0.828</td>\n",
       "      <td>23</td>\n",
       "      <td>0</td>\n",
       "    </tr>\n",
       "    <tr>\n",
       "      <th>3</th>\n",
       "      <td>2</td>\n",
       "      <td>88</td>\n",
       "      <td>74</td>\n",
       "      <td>19</td>\n",
       "      <td>53</td>\n",
       "      <td>29.0</td>\n",
       "      <td>0.229</td>\n",
       "      <td>22</td>\n",
       "      <td>0</td>\n",
       "    </tr>\n",
       "    <tr>\n",
       "      <th>4</th>\n",
       "      <td>2</td>\n",
       "      <td>95</td>\n",
       "      <td>54</td>\n",
       "      <td>14</td>\n",
       "      <td>88</td>\n",
       "      <td>26.1</td>\n",
       "      <td>0.748</td>\n",
       "      <td>22</td>\n",
       "      <td>0</td>\n",
       "    </tr>\n",
       "    <tr>\n",
       "      <th>...</th>\n",
       "      <td>...</td>\n",
       "      <td>...</td>\n",
       "      <td>...</td>\n",
       "      <td>...</td>\n",
       "      <td>...</td>\n",
       "      <td>...</td>\n",
       "      <td>...</td>\n",
       "      <td>...</td>\n",
       "      <td>...</td>\n",
       "    </tr>\n",
       "    <tr>\n",
       "      <th>149</th>\n",
       "      <td>0</td>\n",
       "      <td>101</td>\n",
       "      <td>65</td>\n",
       "      <td>28</td>\n",
       "      <td>0</td>\n",
       "      <td>24.6</td>\n",
       "      <td>0.237</td>\n",
       "      <td>22</td>\n",
       "      <td>0</td>\n",
       "    </tr>\n",
       "    <tr>\n",
       "      <th>150</th>\n",
       "      <td>1</td>\n",
       "      <td>107</td>\n",
       "      <td>68</td>\n",
       "      <td>19</td>\n",
       "      <td>0</td>\n",
       "      <td>26.5</td>\n",
       "      <td>0.165</td>\n",
       "      <td>24</td>\n",
       "      <td>0</td>\n",
       "    </tr>\n",
       "    <tr>\n",
       "      <th>151</th>\n",
       "      <td>6</td>\n",
       "      <td>166</td>\n",
       "      <td>74</td>\n",
       "      <td>0</td>\n",
       "      <td>0</td>\n",
       "      <td>26.6</td>\n",
       "      <td>0.304</td>\n",
       "      <td>66</td>\n",
       "      <td>1</td>\n",
       "    </tr>\n",
       "    <tr>\n",
       "      <th>152</th>\n",
       "      <td>7</td>\n",
       "      <td>133</td>\n",
       "      <td>84</td>\n",
       "      <td>0</td>\n",
       "      <td>0</td>\n",
       "      <td>40.2</td>\n",
       "      <td>0.696</td>\n",
       "      <td>37</td>\n",
       "      <td>1</td>\n",
       "    </tr>\n",
       "    <tr>\n",
       "      <th>153</th>\n",
       "      <td>2</td>\n",
       "      <td>90</td>\n",
       "      <td>68</td>\n",
       "      <td>42</td>\n",
       "      <td>0</td>\n",
       "      <td>38.2</td>\n",
       "      <td>0.503</td>\n",
       "      <td>27</td>\n",
       "      <td>0</td>\n",
       "    </tr>\n",
       "  </tbody>\n",
       "</table>\n",
       "<p>154 rows × 9 columns</p>\n",
       "</div>"
      ],
      "text/plain": [
       "     preg  plas  pres  skin  test  mass   pedi  age  class\n",
       "0      10   122    68     0     0  31.2  0.258   41      1\n",
       "1       6   137    61     0     0  24.2  0.151   55      0\n",
       "2       1   140    74    26   180  24.1  0.828   23      0\n",
       "3       2    88    74    19    53  29.0  0.229   22      0\n",
       "4       2    95    54    14    88  26.1  0.748   22      0\n",
       "..    ...   ...   ...   ...   ...   ...    ...  ...    ...\n",
       "149     0   101    65    28     0  24.6  0.237   22      0\n",
       "150     1   107    68    19     0  26.5  0.165   24      0\n",
       "151     6   166    74     0     0  26.6  0.304   66      1\n",
       "152     7   133    84     0     0  40.2  0.696   37      1\n",
       "153     2    90    68    42     0  38.2  0.503   27      0\n",
       "\n",
       "[154 rows x 9 columns]"
      ]
     },
     "execution_count": 89,
     "metadata": {},
     "output_type": "execute_result"
    }
   ],
   "source": [
    "# memberi nama pada dataframe dan menampilkannya\n",
    "result.columns = ['preg', 'plas', 'pres', 'skin', 'test', 'mass', 'pedi', 'age', \n",
    "'class']\n",
    "result"
   ]
  }
 ],
 "metadata": {
  "colab": {
   "collapsed_sections": [
    "zvm-f-4sfpYa",
    "id5n3wUvXhzM"
   ],
   "name": "Regresi Linear dan Logistic.ipynb",
   "provenance": []
  },
  "kernelspec": {
   "display_name": "Python 3",
   "language": "python",
   "name": "python3"
  },
  "language_info": {
   "codemirror_mode": {
    "name": "ipython",
    "version": 3
   },
   "file_extension": ".py",
   "mimetype": "text/x-python",
   "name": "python",
   "nbconvert_exporter": "python",
   "pygments_lexer": "ipython3",
   "version": "3.7.7"
  }
 },
 "nbformat": 4,
 "nbformat_minor": 1
}
